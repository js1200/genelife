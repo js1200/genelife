{
 "cells": [
  {
   "cell_type": "code",
   "execution_count": 1,
   "metadata": {},
   "outputs": [
    {
     "name": "stdout",
     "output_type": "stream",
     "text": [
      "Running with SDL version 2.0.8.\n"
     ]
    },
    {
     "data": {
      "text/html": [
       "<style>.container { width:100% !important; }</style>"
      ],
      "text/plain": [
       "<IPython.core.display.HTML object>"
      ]
     },
     "metadata": {},
     "output_type": "display_data"
    },
    {
     "name": "stdout",
     "output_type": "stream",
     "text": [
      "System Darwin\n",
      "Platform Darwin-18.7.0-x86_64-i386-64bit\n"
     ]
    }
   ],
   "source": [
    "## %gui osx\n",
    "import random as rand\n",
    "import numpy as np\n",
    "import genelife as g\n",
    "\n",
    "%matplotlib inline\n",
    "import matplotlib\n",
    "from matplotlib import pyplot as plt\n",
    "\n",
    "# import pygame as pg # already done in genelife\n",
    "from IPython.core.display import display, HTML\n",
    "display(HTML(\"<style>.container { width:100% !important; }</style>\"))     # sets input cells to use full window width\n",
    "\n",
    "import platform\n",
    "print('System',platform.system())                                         # displays operating system\n",
    "print('Platform',platform.platform())\n",
    "\n",
    "def set_params(runp,simp):\n",
    "    g.rulemod = g.runparams[0] = runp[0]\n",
    "    g.repscheme = g.runparams[1] = runp[1]\n",
    "    g.selection = g.runparams[2] = runp[2]\n",
    "    g.overwritemask = g.runparams[3] = runp[3]\n",
    "    g.survivalmask = g.runparams[4] = runp[4]\n",
    "    g.colorfunction = g.runparams[5] = runp[5]\n",
    "    g.initfield = g.runparams[6] = runp[6]\n",
    "    g.birthmask = g.runparams[7] = runp[7]\n",
    "    g.ancselectmask = g.runparams[6] = runp[6]\n",
    "    g.colorfunction2 = g.runparams[9] = -1      # color function of 2nd window same as first\n",
    "    g.nlog2pmut = g.simparams[0] = simp[0]\n",
    "    g.initial1density = g.simparams[1] = simp[1]\n",
    "    g.initialrdensity = g.simparams[2] = simp[2]\n",
    "    g.ncoding = g.simparams[3] = simp[3]\n",
    "    g.startgenechoice = g.simparams[4] = simp[4]\n",
    "    g.ranseed = g.simparams[5] = simp[5]\n",
    "    \n",
    "\n",
    "from os import environ\n",
    "environ['SDL_VIDEO_WINDOW_POS'] = \"%d,%d\" % (1000,32)   # set position of pygame (SDL) video window (x,y) pixel coords, values work well on iMac"
   ]
  },
  {
   "cell_type": "markdown",
   "metadata": {},
   "source": [
    "## Game of Life"
   ]
  },
  {
   "cell_type": "code",
   "execution_count": 2,
   "metadata": {},
   "outputs": [
    {
     "name": "stderr",
     "output_type": "stream",
     "text": [
      "/Users/n/Projects/genelife/genelifepy/genelife.py:484: ExperimentalWarning: 'pixels2d' is in an experimental state.\n",
      "  cgrid=sdl2.ext.pixels2d(surfacex1)\n",
      "/Users/n/Projects/genelife/genelifepy/genelife.py:523: ExperimentalWarning: 'pixels2d' is in an experimental state.\n",
      "  cgrid2=sdl2.ext.pixels2d(surface2x1)\n"
     ]
    }
   ],
   "source": [
    "# 2\n",
    "#  selection=2 scissors-stone-well-paper\n",
    "#  Note that sequences must differ for replication unless it is forced.\n",
    "#  Prepared for recording and replay of gui user sequence\n",
    "#  Color scheme: four different classes are red, green, blue and white\n",
    "g.nrun=1; g.ndisp=1000; g.nskip=0; g.niter=100;  # simulation time stepping parameters\n",
    "#nrun=1; ndisp=1; nskip=0; niter=1;         # single step\n",
    "g.nhist = 10                                # set to n to turn on histogram configurations every nth step\n",
    "g.nstat = 10                                # set to n to turn on statistics trace every nth step\n",
    "g.rulemod = g.runparams[0] = 0              # 0,1 whether to allow GoL rule modifications\n",
    "                                            # with rulemod 1 2-live-nb birth, 3-live-nb non-birth & non-survival possible\n",
    "g.repscheme = g.runparams[1] = 0x0002       # bits 0 to 20 code for mostly independent binary options\n",
    "g.selection = g.runparams[2] = 2            # fitness for 2 live neighbor rule : 0-6 see subgenelife.c code\n",
    "g.overwritemask = g.runparams[3] = 3        # mask of 2 bits to overwrite instead of survival for 3(bit0) or 2(bit1) live nbs\n",
    "g.survivalmask = g.runparams[4] = 0         # survive mask for two (bit 1) and three (bit 0) live neighbours : GoL = 3\n",
    "g.colorfunction = g.runparams[5] = 0        # color function 0(hash), ≥1(fnal), 2 nongolchg yellow, 3 notgolrul yellow\n",
    "g.initfield = g.runparams[6] = 0            # 1 init via 32x32 genepat.dat, n>1 init via nxn rand array\n",
    "#g.birthmask = runparams[7] = 0x04          # for selection=8-13 this is the GoL birth mask\n",
    "#g.ancselectmask = runparams[8] = 0xff      # bit mask for enabling gene-selective choice of ancestor for different birth rules\n",
    "g.colorfunction2 = g.runparams[9] = -1      # color function of 2nd window same as first\n",
    "g.nlog2pmut = g.simparams[0] = 0            # log2 gene mutation probability (0 or >56 means no mutation)\n",
    "g.initial1density = g.simparams[1] = 8192   # initial 1 density in GOL state: 16384 = near 1/2 guaranteed C rand max val 32767=2^15-1\n",
    "g.initialrdensity = g.simparams[2] = 0      # initial density of random genes\n",
    "g.ncoding = g.simparams[3] = 0              # no of bits used to encode valid connection functions 1-16\n",
    "g.startgenechoice = g.simparams[4] = 5      # initialize genes to startgene number 0-8 : 8 is random choice of 0-7\n",
    "g.ranseed = g.simparams[5] = 1234           # random number generator initialization\n",
    "\n",
    "g.genelife.initialize_planes(g.npoffsets)\n",
    "g.genelife.initialize(g.runparams,g.simparams)\n",
    "g.stepreg = []\n",
    "g.pyreg = []\n",
    "g.framenr = 0\n",
    "g.cnt=0\n",
    "g.rescale = True                            # if true, windows rescaled to 2x if possible (<= 512 in size), must restart kernel to change\n",
    "g.show0(False)\n",
    "# g.step()\n",
    "# g.run(g.nrun, g.ndisp, g.nskip, g.niter, g.nhist, g.nstat, False,regfile='recording') # run this version to record, using right shift S to save\n",
    "g.run(g.nrun, g.ndisp, g.nskip, g.niter, g.nhist, g.nstat, False) # run this version to replay"
   ]
  },
  {
   "cell_type": "markdown",
   "metadata": {},
   "source": [
    "## selection 10 near GoL\n",
    "\n",
    "2 nearest 4nbr bits => doesn't die out.\n"
   ]
  },
  {
   "cell_type": "code",
   "execution_count": 9,
   "metadata": {},
   "outputs": [
    {
     "name": "stdout",
     "output_type": "stream",
     "text": [
      "step 0 pixel data (0,245) gol 0 gene 0000000000000000 status 0000000000000000\n",
      "step 57 pixel data (208,178) gol 0 gene 0000000000000000 status 0000000000000000\n",
      "step 872 survivalmask changed to 11fc\n",
      "step 927 birthmask changed to 11e0\n"
     ]
    }
   ],
   "source": [
    "# 10 GoL\n",
    "#  selection=10 LUT with appropriate parameters for survival\n",
    "#  this case uses the genes to encode the se (number of live edge-centred sites) and s dept rule tables for birth and survival\n",
    "#  a fixed positional encoding is used in the gene with 1 bit per valid s,se combination\n",
    "#  there are 1,2,3,4,5,4,3,2,1 configurations of se for s=0-8. Only 23 cases s=1-7 are lut allowed non-zero.\n",
    "#  birth is determined by the and of the live neighbour genes (and 23 bits of birthmask) ie genecode\n",
    "#  survival is determined the and of the live neighbour genes (and 23 bits of survivalmask) ie genecode\n",
    "#  ncoding not used : only space for 1 bit per lut entry\n",
    "#  this example starts with only allowing GoL configurations : extend by adding more bits to survival and birth masks\n",
    "g.nrun=1; g.ndisp=1000; g.nskip=0; g.niter=1;# simulation time stepping parameters\n",
    "g.nhist = 0                                  # set to n to turn on histogram configurations every nth step\n",
    "g.nstat = 0                                  # set to n to turn on statistics trace every nth step\n",
    "g.rulemod = g.runparams[0] = 0x1             # 0,1 whether to allow GoL rule modifications\n",
    "g.repscheme = g.runparams[1] = 0x610         \n",
    "g.selection     = g.runparams[2] = 10        # fitness for 2 live neighbor rule : 0-6 see subgenelife.c code\n",
    "g.overwritemask = g.runparams[3] = 0x0      # mask of bits to overwrite if birth allowed and already occupied for bit position sum s\n",
    "g.birthmask    = g.runparams[7] = 0x000001e0 # for selection=10-11 this is the GoL birth mask\n",
    "g.birthmask    = g.runparams[7] = 0x000021e0 # GoL + 1 bit (nearest 4 nbr)\n",
    "g.birthmask    = g.runparams[7] = 0x000031e4 # GoL + 3 bits (2 nearest 4 nbr + farthest 2nbr)\n",
    "g.birthmask    = g.runparams[7] = 0x000031e0 # GoL + 2 bit (2 nearest 4 nbr)\n",
    "g.birthmask    = g.runparams[7] = 0x000021e0 # GoL + 1 bit (nearest 4 nbr)\n",
    "\n",
    "\n",
    "g.survivalmask = g.runparams[4] = 0x000001fc # for selection=10-11 this is the GoL survival mask\n",
    "g.survivalmask = g.runparams[4] = 0x000031fc # GOL + 2 bits (2 nearest 4 nbr)\n",
    "g.survivalmask = g.runparams[4] = 0x000021fc # GOL + 2 bits (2 nearest 4 nbr)\n",
    "g.ancselectmask = g.runparams[8] = 0xff      # ancestor mask allowing selection for all s values\n",
    "g.colorfunction = g.runparams[5] = 0         # color function can be cahnged with arrow keys\n",
    "g.initfield = g.runparams[6] = 150           # 1 init via 32x32 genepat.dat, n>1 init via nxn rand array\n",
    "g.nlog2pmut = g.simparams[0] = 8             # log2 gene mutation probability (0 or >56 means no mutation)\n",
    "g.initial1density = g.simparams[1] = 8192    # initial 1 density in GOL state: 16384 = nearest to half of C rand max value 32767 = 2**15 - 1\n",
    "g.initialrdensity = g.simparams[2] = 0       # initial density of random genes\n",
    "g.ncoding = g.simparams[3] = 0               # for selection==8, lut, ncoding 1,2,3 bits per lut entry : 0 implies 3.\n",
    "g.startgenechoice = g.simparams[4] = 8       # initialize genes to startgene number 0-8 : 8 is random choice of 0-7\n",
    "\n",
    "g.genelife.initialize_planes(g.npoffsets)\n",
    "g.genelife.initialize(g.runparams,g.simparams)\n",
    "g.framenr = 0\n",
    "g.cnt=0\n",
    "g.show0()\n",
    "#g.step(True)\n",
    "g.run(g.nrun, g.ndisp, g.nskip, g.niter, g.nhist, g.nstat, False)"
   ]
  },
  {
   "cell_type": "code",
   "execution_count": null,
   "metadata": {},
   "outputs": [],
   "source": []
  },
  {
   "cell_type": "markdown",
   "metadata": {},
   "source": [
    "## Daptics runs"
   ]
  },
  {
   "cell_type": "markdown",
   "metadata": {},
   "source": [
    "### selection=9, glider_count optimization jper / density"
   ]
  },
  {
   "cell_type": "code",
   "execution_count": 12,
   "metadata": {},
   "outputs": [
    {
     "name": "stdout",
     "output_type": "stream",
     "text": [
      "step 38 pixel data (449,257) gol 0 gene 0000000000000000 status 0000000000000000\n",
      "step 214 pixel data (224,226) gol 0 gene 0000000000000000 status 0000000000000000\n"
     ]
    }
   ],
   "source": [
    "g.nrun=1; g.ndisp=1000; g.nskip=0; g.niter=1;# simulation time stepping parameters\n",
    "g.nhist = 0                                  # set to n to turn on histogram configurations every nth step\n",
    "g.nstat = 0                                  # set to n to turn on statistics trace every nth stepg.runparams = np.array([  1, 493,   9, 121,  51,   0,   0,  30, 255,  -1], dtype='int32')\n",
    "runp = np.array([  1, 486,   9, 249,  10,   0,   0,  86, 255,  -1], dtype='int32')\n",
    "simp = np.array([     8,   8192,      0,      1,      8, 959893], dtype='int32')\n",
    "set_params(runp,simp)\n",
    "g.genelife.initialize_planes(g.npoffsets)\n",
    "g.genelife.initialize(g.runparams,g.simparams)\n",
    "g.framenr = 0\n",
    "g.cnt=0\n",
    "g.show0()\n",
    "#g.step(True)\n",
    "g.run(g.nrun, g.ndisp, g.nskip, g.niter, g.nhist, g.nstat, False)"
   ]
  },
  {
   "cell_type": "code",
   "execution_count": null,
   "metadata": {},
   "outputs": [],
   "source": []
  },
  {
   "cell_type": "markdown",
   "metadata": {},
   "source": [
    "### selection=9, glider_count optimization jper^2 / density^2"
   ]
  },
  {
   "cell_type": "code",
   "execution_count": 13,
   "metadata": {},
   "outputs": [],
   "source": [
    "g.nrun=1; g.ndisp=1000; g.nskip=0; g.niter=1;# simulation time stepping parameters\n",
    "g.nhist = 0                                  # set to n to turn on histogram configurations every nth step\n",
    "g.nstat = 0                                  # set to n to turn on statistics trace every nth stepg.runparams = np.array([  1, 493,   9, 121,  51,   0,   0,  30, 255,  -1], dtype='int32')\n",
    "\n",
    "runp = np.array([  1, 379,   9, 203, 152,   0,   0, 199, 255,  -1], dtype='int32')\n",
    "simp = np.array([    8,  8192,     0,     1,     8, 67150], dtype='int32')\n",
    "set_params(runp,simp)\n",
    "\n",
    "g.genelife.initialize_planes(g.npoffsets)\n",
    "g.genelife.initialize(g.runparams,g.simparams)\n",
    "g.framenr = 0\n",
    "g.cnt=0\n",
    "g.show0()\n",
    "#g.step(True)\n",
    "g.run(g.nrun, g.ndisp, g.nskip, g.niter, g.nhist, g.nstat, False)"
   ]
  },
  {
   "cell_type": "markdown",
   "metadata": {},
   "source": [
    "## Extra"
   ]
  },
  {
   "cell_type": "markdown",
   "metadata": {},
   "source": [
    "### selection=9, glider_count optimization jper / density"
   ]
  },
  {
   "cell_type": "code",
   "execution_count": 9,
   "metadata": {},
   "outputs": [],
   "source": [
    "g.nrun=1; g.ndisp=1000; g.nskip=0; g.niter=1;# simulation time stepping parameters\n",
    "g.nhist = 0                                  # set to n to turn on histogram configurations every nth step\n",
    "g.nstat = 0                                  # set to n to turn on statistics trace every nth stepg.runparams = np.array([  1, 493,   9, 121,  51,   0,   0,  30, 255,  -1], dtype='int32')\n",
    "g.runparams = np.array([  1, 486,   9, 249,  10,   0,   0,  86, 255,  -1], dtype='int32')\n",
    "g.simparams = np.array([     8,   8192,      0,      1,      8, 959893], dtype='int32')\n",
    "g.genelife.initialize_planes(g.npoffsets)\n",
    "g.genelife.initialize(g.runparams,g.simparams)\n",
    "g.framenr = 0\n",
    "g.cnt=0\n",
    "g.show0()\n",
    "#g.step(True)\n",
    "g.run(g.nrun, g.ndisp, g.nskip, g.niter, g.nhist, g.nstat, False)"
   ]
  }
 ],
 "metadata": {
  "kernelspec": {
   "display_name": "Python3",
   "language": "python",
   "name": "python3"
  },
  "language_info": {
   "codemirror_mode": {
    "name": "ipython",
    "version": 3
   },
   "file_extension": ".py",
   "mimetype": "text/x-python",
   "name": "python",
   "nbconvert_exporter": "python",
   "pygments_lexer": "ipython3",
   "version": "3.7.2"
  },
  "toc": {
   "nav_menu": {},
   "number_sections": true,
   "sideBar": true,
   "skip_h1_title": false,
   "title_cell": "Table of Contents",
   "title_sidebar": "Contents",
   "toc_cell": false,
   "toc_position": {},
   "toc_section_display": true,
   "toc_window_display": false
  }
 },
 "nbformat": 4,
 "nbformat_minor": 2
}
